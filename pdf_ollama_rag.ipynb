{
 "cells": [
  {
   "cell_type": "markdown",
   "id": "d4d5cab6-515e-4dd6-95ae-6393f0c4435c",
   "metadata": {},
   "source": [
    "## Ingesting PDF"
   ]
  },
  {
   "cell_type": "code",
   "execution_count": 5,
   "id": "d6df528f",
   "metadata": {},
   "outputs": [
    {
     "name": "stdout",
     "output_type": "stream",
     "text": [
      "Requirement already satisfied: pip in .\\venv\\lib\\site-packages (24.0)\n",
      "Collecting pip\n",
      "  Using cached pip-24.1.2-py3-none-any.whl.metadata (3.6 kB)\n",
      "Using cached pip-24.1.2-py3-none-any.whl (1.8 MB)\n",
      "Installing collected packages: pip\n",
      "  Attempting uninstall: pip\n",
      "    Found existing installation: pip 24.0\n",
      "    Uninstalling pip-24.0:\n",
      "      Successfully uninstalled pip-24.0\n",
      "Successfully installed pip-24.1.2\n",
      "Note: you may need to restart the kernel to use updated packages.\n"
     ]
    }
   ],
   "source": [
    "%pip install --upgrade pip "
   ]
  },
  {
   "cell_type": "code",
   "execution_count": 3,
   "id": "c2e8b999-83ba-484a-9b94-f56c201d2036",
   "metadata": {},
   "outputs": [
    {
     "name": "stdout",
     "output_type": "stream",
     "text": [
      "Requirement already satisfied: unstructured in .\\venv\\lib\\site-packages (0.14.9)\n",
      "Requirement already satisfied: langchain in .\\venv\\lib\\site-packages (0.2.6)\n",
      "Requirement already satisfied: chardet in .\\venv\\lib\\site-packages (from unstructured) (5.2.0)\n",
      "Requirement already satisfied: filetype in .\\venv\\lib\\site-packages (from unstructured) (1.2.0)\n",
      "Requirement already satisfied: python-magic in .\\venv\\lib\\site-packages (from unstructured) (0.4.27)\n",
      "Requirement already satisfied: lxml in .\\venv\\lib\\site-packages (from unstructured) (5.2.2)\n",
      "Requirement already satisfied: nltk in .\\venv\\lib\\site-packages (from unstructured) (3.8.1)\n",
      "Requirement already satisfied: tabulate in .\\venv\\lib\\site-packages (from unstructured) (0.9.0)\n",
      "Requirement already satisfied: requests in .\\venv\\lib\\site-packages (from unstructured) (2.32.3)\n",
      "Requirement already satisfied: beautifulsoup4 in .\\venv\\lib\\site-packages (from unstructured) (4.12.3)\n",
      "Requirement already satisfied: emoji in .\\venv\\lib\\site-packages (from unstructured) (2.12.1)\n",
      "Requirement already satisfied: dataclasses-json in .\\venv\\lib\\site-packages (from unstructured) (0.6.7)\n",
      "Requirement already satisfied: python-iso639 in .\\venv\\lib\\site-packages (from unstructured) (2024.4.27)\n",
      "Requirement already satisfied: langdetect in .\\venv\\lib\\site-packages (from unstructured) (1.0.9)\n",
      "Requirement already satisfied: numpy<2 in .\\venv\\lib\\site-packages (from unstructured) (1.26.4)\n",
      "Requirement already satisfied: rapidfuzz in .\\venv\\lib\\site-packages (from unstructured) (3.9.4)\n",
      "Requirement already satisfied: backoff in .\\venv\\lib\\site-packages (from unstructured) (2.2.1)\n",
      "Requirement already satisfied: typing-extensions in .\\venv\\lib\\site-packages (from unstructured) (4.12.2)\n",
      "Requirement already satisfied: unstructured-client in .\\venv\\lib\\site-packages (from unstructured) (0.23.9)\n",
      "Requirement already satisfied: wrapt in .\\venv\\lib\\site-packages (from unstructured) (1.16.0)\n",
      "Requirement already satisfied: tqdm in .\\venv\\lib\\site-packages (from unstructured) (4.66.4)\n",
      "Requirement already satisfied: PyYAML>=5.3 in .\\venv\\lib\\site-packages (from langchain) (6.0.1)\n",
      "Requirement already satisfied: SQLAlchemy<3,>=1.4 in .\\venv\\lib\\site-packages (from langchain) (2.0.31)\n",
      "Requirement already satisfied: aiohttp<4.0.0,>=3.8.3 in .\\venv\\lib\\site-packages (from langchain) (3.9.5)\n",
      "Requirement already satisfied: langchain-core<0.3.0,>=0.2.10 in .\\venv\\lib\\site-packages (from langchain) (0.2.11)\n",
      "Requirement already satisfied: langchain-text-splitters<0.3.0,>=0.2.0 in .\\venv\\lib\\site-packages (from langchain) (0.2.2)\n",
      "Requirement already satisfied: langsmith<0.2.0,>=0.1.17 in .\\venv\\lib\\site-packages (from langchain) (0.1.84)\n",
      "Requirement already satisfied: pydantic<3,>=1 in .\\venv\\lib\\site-packages (from langchain) (2.8.2)\n",
      "Requirement already satisfied: tenacity!=8.4.0,<9.0.0,>=8.1.0 in .\\venv\\lib\\site-packages (from langchain) (8.5.0)\n",
      "Requirement already satisfied: aiosignal>=1.1.2 in .\\venv\\lib\\site-packages (from aiohttp<4.0.0,>=3.8.3->langchain) (1.3.1)\n",
      "Requirement already satisfied: attrs>=17.3.0 in .\\venv\\lib\\site-packages (from aiohttp<4.0.0,>=3.8.3->langchain) (23.2.0)\n",
      "Requirement already satisfied: frozenlist>=1.1.1 in .\\venv\\lib\\site-packages (from aiohttp<4.0.0,>=3.8.3->langchain) (1.4.1)\n",
      "Requirement already satisfied: multidict<7.0,>=4.5 in .\\venv\\lib\\site-packages (from aiohttp<4.0.0,>=3.8.3->langchain) (6.0.5)\n",
      "Requirement already satisfied: yarl<2.0,>=1.0 in .\\venv\\lib\\site-packages (from aiohttp<4.0.0,>=3.8.3->langchain) (1.9.4)\n",
      "Requirement already satisfied: jsonpatch<2.0,>=1.33 in .\\venv\\lib\\site-packages (from langchain-core<0.3.0,>=0.2.10->langchain) (1.33)\n",
      "Requirement already satisfied: packaging<25,>=23.2 in .\\venv\\lib\\site-packages (from langchain-core<0.3.0,>=0.2.10->langchain) (24.1)\n",
      "Requirement already satisfied: orjson<4.0.0,>=3.9.14 in .\\venv\\lib\\site-packages (from langsmith<0.2.0,>=0.1.17->langchain) (3.10.6)\n",
      "Requirement already satisfied: annotated-types>=0.4.0 in .\\venv\\lib\\site-packages (from pydantic<3,>=1->langchain) (0.7.0)\n",
      "Requirement already satisfied: pydantic-core==2.20.1 in .\\venv\\lib\\site-packages (from pydantic<3,>=1->langchain) (2.20.1)\n",
      "Requirement already satisfied: charset-normalizer<4,>=2 in .\\venv\\lib\\site-packages (from requests->unstructured) (3.3.2)\n",
      "Requirement already satisfied: idna<4,>=2.5 in .\\venv\\lib\\site-packages (from requests->unstructured) (3.7)\n",
      "Requirement already satisfied: urllib3<3,>=1.21.1 in .\\venv\\lib\\site-packages (from requests->unstructured) (2.2.2)\n",
      "Requirement already satisfied: certifi>=2017.4.17 in .\\venv\\lib\\site-packages (from requests->unstructured) (2024.7.4)\n",
      "Requirement already satisfied: greenlet!=0.4.17 in .\\venv\\lib\\site-packages (from SQLAlchemy<3,>=1.4->langchain) (3.0.3)\n",
      "Requirement already satisfied: soupsieve>1.2 in .\\venv\\lib\\site-packages (from beautifulsoup4->unstructured) (2.5)\n",
      "Requirement already satisfied: marshmallow<4.0.0,>=3.18.0 in .\\venv\\lib\\site-packages (from dataclasses-json->unstructured) (3.21.3)\n",
      "Requirement already satisfied: typing-inspect<1,>=0.4.0 in .\\venv\\lib\\site-packages (from dataclasses-json->unstructured) (0.9.0)\n",
      "Requirement already satisfied: six in .\\venv\\lib\\site-packages (from langdetect->unstructured) (1.16.0)\n",
      "Requirement already satisfied: click in .\\venv\\lib\\site-packages (from nltk->unstructured) (8.1.7)\n",
      "Requirement already satisfied: joblib in .\\venv\\lib\\site-packages (from nltk->unstructured) (1.4.2)\n",
      "Requirement already satisfied: regex>=2021.8.3 in .\\venv\\lib\\site-packages (from nltk->unstructured) (2024.5.15)\n",
      "Requirement already satisfied: colorama in .\\venv\\lib\\site-packages (from tqdm->unstructured) (0.4.6)\n",
      "Requirement already satisfied: deepdiff>=6.0 in .\\venv\\lib\\site-packages (from unstructured-client->unstructured) (7.0.1)\n",
      "Requirement already satisfied: httpx>=0.27.0 in .\\venv\\lib\\site-packages (from unstructured-client->unstructured) (0.27.0)\n",
      "Requirement already satisfied: jsonpath-python>=1.0.6 in .\\venv\\lib\\site-packages (from unstructured-client->unstructured) (1.0.6)\n",
      "Requirement already satisfied: mypy-extensions>=1.0.0 in .\\venv\\lib\\site-packages (from unstructured-client->unstructured) (1.0.0)\n",
      "Requirement already satisfied: nest-asyncio>=1.6.0 in .\\venv\\lib\\site-packages (from unstructured-client->unstructured) (1.6.0)\n",
      "Requirement already satisfied: pypdf>=4.0 in .\\venv\\lib\\site-packages (from unstructured-client->unstructured) (4.2.0)\n",
      "Requirement already satisfied: python-dateutil>=2.8.2 in .\\venv\\lib\\site-packages (from unstructured-client->unstructured) (2.9.0.post0)\n",
      "Requirement already satisfied: requests-toolbelt>=1.0.0 in .\\venv\\lib\\site-packages (from unstructured-client->unstructured) (1.0.0)\n",
      "Requirement already satisfied: ordered-set<4.2.0,>=4.1.0 in .\\venv\\lib\\site-packages (from deepdiff>=6.0->unstructured-client->unstructured) (4.1.0)\n",
      "Requirement already satisfied: anyio in .\\venv\\lib\\site-packages (from httpx>=0.27.0->unstructured-client->unstructured) (4.4.0)\n",
      "Requirement already satisfied: httpcore==1.* in .\\venv\\lib\\site-packages (from httpx>=0.27.0->unstructured-client->unstructured) (1.0.5)\n",
      "Requirement already satisfied: sniffio in .\\venv\\lib\\site-packages (from httpx>=0.27.0->unstructured-client->unstructured) (1.3.1)\n",
      "Requirement already satisfied: h11<0.15,>=0.13 in .\\venv\\lib\\site-packages (from httpcore==1.*->httpx>=0.27.0->unstructured-client->unstructured) (0.14.0)\n",
      "Requirement already satisfied: jsonpointer>=1.9 in .\\venv\\lib\\site-packages (from jsonpatch<2.0,>=1.33->langchain-core<0.3.0,>=0.2.10->langchain) (3.0.0)\n",
      "Note: you may need to restart the kernel to use updated packages.\n"
     ]
    },
    {
     "name": "stderr",
     "output_type": "stream",
     "text": [
      "\n",
      "[notice] A new release of pip is available: 24.0 -> 24.1.2\n",
      "[notice] To update, run: c:\\programs\\tasks\\image chatbot (task2)\\venv\\Scripts\\python.exe -m pip install --upgrade pip\n"
     ]
    },
    {
     "name": "stdout",
     "output_type": "stream",
     "text": [
      "Requirement already satisfied: unstructured[all-docs] in .\\venv\\lib\\site-packages (0.14.9)\n",
      "Requirement already satisfied: chardet in .\\venv\\lib\\site-packages (from unstructured[all-docs]) (5.2.0)\n",
      "Requirement already satisfied: filetype in .\\venv\\lib\\site-packages (from unstructured[all-docs]) (1.2.0)\n",
      "Requirement already satisfied: python-magic in .\\venv\\lib\\site-packages (from unstructured[all-docs]) (0.4.27)\n",
      "Requirement already satisfied: lxml in .\\venv\\lib\\site-packages (from unstructured[all-docs]) (5.2.2)\n",
      "Requirement already satisfied: nltk in .\\venv\\lib\\site-packages (from unstructured[all-docs]) (3.8.1)\n",
      "Requirement already satisfied: tabulate in .\\venv\\lib\\site-packages (from unstructured[all-docs]) (0.9.0)\n",
      "Requirement already satisfied: requests in .\\venv\\lib\\site-packages (from unstructured[all-docs]) (2.32.3)\n",
      "Requirement already satisfied: beautifulsoup4 in .\\venv\\lib\\site-packages (from unstructured[all-docs]) (4.12.3)\n",
      "Requirement already satisfied: emoji in .\\venv\\lib\\site-packages (from unstructured[all-docs]) (2.12.1)\n",
      "Requirement already satisfied: dataclasses-json in .\\venv\\lib\\site-packages (from unstructured[all-docs]) (0.6.7)\n",
      "Requirement already satisfied: python-iso639 in .\\venv\\lib\\site-packages (from unstructured[all-docs]) (2024.4.27)\n",
      "Requirement already satisfied: langdetect in .\\venv\\lib\\site-packages (from unstructured[all-docs]) (1.0.9)\n",
      "Requirement already satisfied: numpy<2 in .\\venv\\lib\\site-packages (from unstructured[all-docs]) (1.26.4)\n",
      "Requirement already satisfied: rapidfuzz in .\\venv\\lib\\site-packages (from unstructured[all-docs]) (3.9.4)\n",
      "Requirement already satisfied: backoff in .\\venv\\lib\\site-packages (from unstructured[all-docs]) (2.2.1)\n",
      "Requirement already satisfied: typing-extensions in .\\venv\\lib\\site-packages (from unstructured[all-docs]) (4.12.2)\n",
      "Requirement already satisfied: unstructured-client in .\\venv\\lib\\site-packages (from unstructured[all-docs]) (0.23.9)\n",
      "Requirement already satisfied: wrapt in .\\venv\\lib\\site-packages (from unstructured[all-docs]) (1.16.0)\n",
      "Requirement already satisfied: tqdm in .\\venv\\lib\\site-packages (from unstructured[all-docs]) (4.66.4)\n",
      "Requirement already satisfied: openpyxl in .\\venv\\lib\\site-packages (from unstructured[all-docs]) (3.1.5)\n",
      "Requirement already satisfied: pillow-heif in .\\venv\\lib\\site-packages (from unstructured[all-docs]) (0.17.0)\n",
      "Requirement already satisfied: pdf2image in .\\venv\\lib\\site-packages (from unstructured[all-docs]) (1.17.0)\n",
      "Requirement already satisfied: pikepdf in .\\venv\\lib\\site-packages (from unstructured[all-docs]) (9.0.0)\n",
      "Requirement already satisfied: pandas in .\\venv\\lib\\site-packages (from unstructured[all-docs]) (2.2.2)\n",
      "Requirement already satisfied: google-cloud-vision in .\\venv\\lib\\site-packages (from unstructured[all-docs]) (3.7.2)\n",
      "Requirement already satisfied: xlrd in .\\venv\\lib\\site-packages (from unstructured[all-docs]) (2.0.1)\n",
      "Requirement already satisfied: unstructured.pytesseract>=0.3.12 in .\\venv\\lib\\site-packages (from unstructured[all-docs]) (0.3.12)\n",
      "Requirement already satisfied: pypdf in .\\venv\\lib\\site-packages (from unstructured[all-docs]) (4.2.0)\n",
      "Requirement already satisfied: markdown in .\\venv\\lib\\site-packages (from unstructured[all-docs]) (3.6)\n",
      "Requirement already satisfied: unstructured-inference==0.7.36 in .\\venv\\lib\\site-packages (from unstructured[all-docs]) (0.7.36)\n",
      "Requirement already satisfied: pypandoc in .\\venv\\lib\\site-packages (from unstructured[all-docs]) (1.13)\n",
      "Requirement already satisfied: effdet in .\\venv\\lib\\site-packages (from unstructured[all-docs]) (0.4.1)\n",
      "Requirement already satisfied: python-docx>=1.1.2 in .\\venv\\lib\\site-packages (from unstructured[all-docs]) (1.1.2)\n",
      "Requirement already satisfied: networkx in .\\venv\\lib\\site-packages (from unstructured[all-docs]) (3.3)\n",
      "Requirement already satisfied: pytesseract in .\\venv\\lib\\site-packages (from unstructured[all-docs]) (0.3.10)\n",
      "Requirement already satisfied: python-oxmsg in .\\venv\\lib\\site-packages (from unstructured[all-docs]) (0.0.1)\n",
      "Requirement already satisfied: python-pptx<=0.6.23 in .\\venv\\lib\\site-packages (from unstructured[all-docs]) (0.6.23)\n",
      "Requirement already satisfied: pdfminer.six in .\\venv\\lib\\site-packages (from unstructured[all-docs]) (20231228)\n",
      "Requirement already satisfied: onnx in .\\venv\\lib\\site-packages (from unstructured[all-docs]) (1.16.1)\n",
      "Requirement already satisfied: layoutparser in .\\venv\\lib\\site-packages (from unstructured-inference==0.7.36->unstructured[all-docs]) (0.3.4)\n",
      "Requirement already satisfied: python-multipart in .\\venv\\lib\\site-packages (from unstructured-inference==0.7.36->unstructured[all-docs]) (0.0.9)\n",
      "Requirement already satisfied: huggingface-hub in .\\venv\\lib\\site-packages (from unstructured-inference==0.7.36->unstructured[all-docs]) (0.23.4)\n",
      "Requirement already satisfied: opencv-python!=4.7.0.68 in .\\venv\\lib\\site-packages (from unstructured-inference==0.7.36->unstructured[all-docs]) (4.10.0.84)\n",
      "Requirement already satisfied: onnxruntime>=1.17.0 in .\\venv\\lib\\site-packages (from unstructured-inference==0.7.36->unstructured[all-docs]) (1.18.1)\n",
      "Requirement already satisfied: matplotlib in .\\venv\\lib\\site-packages (from unstructured-inference==0.7.36->unstructured[all-docs]) (3.9.1)\n",
      "Requirement already satisfied: torch in .\\venv\\lib\\site-packages (from unstructured-inference==0.7.36->unstructured[all-docs]) (2.3.1)\n",
      "Requirement already satisfied: timm in .\\venv\\lib\\site-packages (from unstructured-inference==0.7.36->unstructured[all-docs]) (1.0.7)\n",
      "Requirement already satisfied: transformers>=4.25.1 in .\\venv\\lib\\site-packages (from unstructured-inference==0.7.36->unstructured[all-docs]) (4.42.3)\n",
      "Requirement already satisfied: Pillow>=3.3.2 in .\\venv\\lib\\site-packages (from python-pptx<=0.6.23->unstructured[all-docs]) (10.4.0)\n",
      "Requirement already satisfied: XlsxWriter>=0.5.7 in .\\venv\\lib\\site-packages (from python-pptx<=0.6.23->unstructured[all-docs]) (3.2.0)\n",
      "Requirement already satisfied: packaging>=21.3 in .\\venv\\lib\\site-packages (from unstructured.pytesseract>=0.3.12->unstructured[all-docs]) (24.1)\n",
      "Requirement already satisfied: soupsieve>1.2 in .\\venv\\lib\\site-packages (from beautifulsoup4->unstructured[all-docs]) (2.5)\n",
      "Requirement already satisfied: marshmallow<4.0.0,>=3.18.0 in .\\venv\\lib\\site-packages (from dataclasses-json->unstructured[all-docs]) (3.21.3)\n",
      "Requirement already satisfied: typing-inspect<1,>=0.4.0 in .\\venv\\lib\\site-packages (from dataclasses-json->unstructured[all-docs]) (0.9.0)\n",
      "Requirement already satisfied: torchvision in .\\venv\\lib\\site-packages (from effdet->unstructured[all-docs]) (0.18.1)\n",
      "Requirement already satisfied: pycocotools>=2.0.2 in .\\venv\\lib\\site-packages (from effdet->unstructured[all-docs]) (2.0.8)\n",
      "Requirement already satisfied: omegaconf>=2.0 in .\\venv\\lib\\site-packages (from effdet->unstructured[all-docs]) (2.3.0)\n",
      "Requirement already satisfied: google-api-core!=2.0.*,!=2.1.*,!=2.10.*,!=2.2.*,!=2.3.*,!=2.4.*,!=2.5.*,!=2.6.*,!=2.7.*,!=2.8.*,!=2.9.*,<3.0.0dev,>=1.34.1 in .\\venv\\lib\\site-packages (from google-api-core[grpc]!=2.0.*,!=2.1.*,!=2.10.*,!=2.2.*,!=2.3.*,!=2.4.*,!=2.5.*,!=2.6.*,!=2.7.*,!=2.8.*,!=2.9.*,<3.0.0dev,>=1.34.1->google-cloud-vision->unstructured[all-docs]) (2.19.1)\n",
      "Requirement already satisfied: google-auth!=2.24.0,!=2.25.0,<3.0.0dev,>=2.14.1 in .\\venv\\lib\\site-packages (from google-cloud-vision->unstructured[all-docs]) (2.31.0)\n",
      "Requirement already satisfied: proto-plus<2.0.0dev,>=1.22.3 in .\\venv\\lib\\site-packages (from google-cloud-vision->unstructured[all-docs]) (1.24.0)\n",
      "Requirement already satisfied: protobuf!=3.20.0,!=3.20.1,!=4.21.0,!=4.21.1,!=4.21.2,!=4.21.3,!=4.21.4,!=4.21.5,<5.0.0dev,>=3.19.5 in .\\venv\\lib\\site-packages (from google-cloud-vision->unstructured[all-docs]) (4.25.3)\n",
      "Requirement already satisfied: six in .\\venv\\lib\\site-packages (from langdetect->unstructured[all-docs]) (1.16.0)\n",
      "Requirement already satisfied: click in .\\venv\\lib\\site-packages (from nltk->unstructured[all-docs]) (8.1.7)\n",
      "Requirement already satisfied: joblib in .\\venv\\lib\\site-packages (from nltk->unstructured[all-docs]) (1.4.2)\n",
      "Requirement already satisfied: regex>=2021.8.3 in .\\venv\\lib\\site-packages (from nltk->unstructured[all-docs]) (2024.5.15)\n",
      "Requirement already satisfied: et-xmlfile in .\\venv\\lib\\site-packages (from openpyxl->unstructured[all-docs]) (1.1.0)\n",
      "Requirement already satisfied: python-dateutil>=2.8.2 in .\\venv\\lib\\site-packages (from pandas->unstructured[all-docs]) (2.9.0.post0)\n",
      "Requirement already satisfied: pytz>=2020.1 in .\\venv\\lib\\site-packages (from pandas->unstructured[all-docs]) (2024.1)\n",
      "Requirement already satisfied: tzdata>=2022.7 in .\\venv\\lib\\site-packages (from pandas->unstructured[all-docs]) (2024.1)\n",
      "Requirement already satisfied: charset-normalizer>=2.0.0 in .\\venv\\lib\\site-packages (from pdfminer.six->unstructured[all-docs]) (3.3.2)\n",
      "Requirement already satisfied: cryptography>=36.0.0 in .\\venv\\lib\\site-packages (from pdfminer.six->unstructured[all-docs]) (42.0.8)\n",
      "Requirement already satisfied: Deprecated in .\\venv\\lib\\site-packages (from pikepdf->unstructured[all-docs]) (1.2.14)\n",
      "Requirement already satisfied: olefile in .\\venv\\lib\\site-packages (from python-oxmsg->unstructured[all-docs]) (0.47)\n",
      "Requirement already satisfied: idna<4,>=2.5 in .\\venv\\lib\\site-packages (from requests->unstructured[all-docs]) (3.7)\n",
      "Requirement already satisfied: urllib3<3,>=1.21.1 in .\\venv\\lib\\site-packages (from requests->unstructured[all-docs]) (2.2.2)\n",
      "Requirement already satisfied: certifi>=2017.4.17 in .\\venv\\lib\\site-packages (from requests->unstructured[all-docs]) (2024.7.4)\n",
      "Requirement already satisfied: colorama in .\\venv\\lib\\site-packages (from tqdm->unstructured[all-docs]) (0.4.6)\n",
      "Requirement already satisfied: deepdiff>=6.0 in .\\venv\\lib\\site-packages (from unstructured-client->unstructured[all-docs]) (7.0.1)\n",
      "Requirement already satisfied: httpx>=0.27.0 in .\\venv\\lib\\site-packages (from unstructured-client->unstructured[all-docs]) (0.27.0)\n",
      "Requirement already satisfied: jsonpath-python>=1.0.6 in .\\venv\\lib\\site-packages (from unstructured-client->unstructured[all-docs]) (1.0.6)\n",
      "Requirement already satisfied: mypy-extensions>=1.0.0 in .\\venv\\lib\\site-packages (from unstructured-client->unstructured[all-docs]) (1.0.0)\n",
      "Requirement already satisfied: nest-asyncio>=1.6.0 in .\\venv\\lib\\site-packages (from unstructured-client->unstructured[all-docs]) (1.6.0)\n",
      "Requirement already satisfied: requests-toolbelt>=1.0.0 in .\\venv\\lib\\site-packages (from unstructured-client->unstructured[all-docs]) (1.0.0)\n",
      "Requirement already satisfied: cffi>=1.12 in .\\venv\\lib\\site-packages (from cryptography>=36.0.0->pdfminer.six->unstructured[all-docs]) (1.16.0)\n",
      "Requirement already satisfied: ordered-set<4.2.0,>=4.1.0 in .\\venv\\lib\\site-packages (from deepdiff>=6.0->unstructured-client->unstructured[all-docs]) (4.1.0)\n",
      "Requirement already satisfied: googleapis-common-protos<2.0.dev0,>=1.56.2 in .\\venv\\lib\\site-packages (from google-api-core!=2.0.*,!=2.1.*,!=2.10.*,!=2.2.*,!=2.3.*,!=2.4.*,!=2.5.*,!=2.6.*,!=2.7.*,!=2.8.*,!=2.9.*,<3.0.0dev,>=1.34.1->google-api-core[grpc]!=2.0.*,!=2.1.*,!=2.10.*,!=2.2.*,!=2.3.*,!=2.4.*,!=2.5.*,!=2.6.*,!=2.7.*,!=2.8.*,!=2.9.*,<3.0.0dev,>=1.34.1->google-cloud-vision->unstructured[all-docs]) (1.63.2)\n",
      "Requirement already satisfied: grpcio<2.0dev,>=1.33.2 in .\\venv\\lib\\site-packages (from google-api-core[grpc]!=2.0.*,!=2.1.*,!=2.10.*,!=2.2.*,!=2.3.*,!=2.4.*,!=2.5.*,!=2.6.*,!=2.7.*,!=2.8.*,!=2.9.*,<3.0.0dev,>=1.34.1->google-cloud-vision->unstructured[all-docs]) (1.64.1)\n",
      "Requirement already satisfied: grpcio-status<2.0.dev0,>=1.33.2 in .\\venv\\lib\\site-packages (from google-api-core[grpc]!=2.0.*,!=2.1.*,!=2.10.*,!=2.2.*,!=2.3.*,!=2.4.*,!=2.5.*,!=2.6.*,!=2.7.*,!=2.8.*,!=2.9.*,<3.0.0dev,>=1.34.1->google-cloud-vision->unstructured[all-docs]) (1.62.2)\n",
      "Requirement already satisfied: cachetools<6.0,>=2.0.0 in .\\venv\\lib\\site-packages (from google-auth!=2.24.0,!=2.25.0,<3.0.0dev,>=2.14.1->google-cloud-vision->unstructured[all-docs]) (5.3.3)\n",
      "Requirement already satisfied: pyasn1-modules>=0.2.1 in .\\venv\\lib\\site-packages (from google-auth!=2.24.0,!=2.25.0,<3.0.0dev,>=2.14.1->google-cloud-vision->unstructured[all-docs]) (0.4.0)\n",
      "Requirement already satisfied: rsa<5,>=3.1.4 in .\\venv\\lib\\site-packages (from google-auth!=2.24.0,!=2.25.0,<3.0.0dev,>=2.14.1->google-cloud-vision->unstructured[all-docs]) (4.9)\n",
      "Requirement already satisfied: anyio in .\\venv\\lib\\site-packages (from httpx>=0.27.0->unstructured-client->unstructured[all-docs]) (4.4.0)\n",
      "Requirement already satisfied: httpcore==1.* in .\\venv\\lib\\site-packages (from httpx>=0.27.0->unstructured-client->unstructured[all-docs]) (1.0.5)\n",
      "Requirement already satisfied: sniffio in .\\venv\\lib\\site-packages (from httpx>=0.27.0->unstructured-client->unstructured[all-docs]) (1.3.1)\n",
      "Requirement already satisfied: h11<0.15,>=0.13 in .\\venv\\lib\\site-packages (from httpcore==1.*->httpx>=0.27.0->unstructured-client->unstructured[all-docs]) (0.14.0)\n",
      "Requirement already satisfied: antlr4-python3-runtime==4.9.* in .\\venv\\lib\\site-packages (from omegaconf>=2.0->effdet->unstructured[all-docs]) (4.9.3)\n",
      "Requirement already satisfied: PyYAML>=5.1.0 in .\\venv\\lib\\site-packages (from omegaconf>=2.0->effdet->unstructured[all-docs]) (6.0.1)\n",
      "Requirement already satisfied: coloredlogs in .\\venv\\lib\\site-packages (from onnxruntime>=1.17.0->unstructured-inference==0.7.36->unstructured[all-docs]) (15.0.1)\n",
      "Requirement already satisfied: flatbuffers in .\\venv\\lib\\site-packages (from onnxruntime>=1.17.0->unstructured-inference==0.7.36->unstructured[all-docs]) (24.3.25)\n",
      "Requirement already satisfied: sympy in .\\venv\\lib\\site-packages (from onnxruntime>=1.17.0->unstructured-inference==0.7.36->unstructured[all-docs]) (1.12.1)\n",
      "Requirement already satisfied: contourpy>=1.0.1 in .\\venv\\lib\\site-packages (from matplotlib->unstructured-inference==0.7.36->unstructured[all-docs]) (1.2.1)\n",
      "Requirement already satisfied: cycler>=0.10 in .\\venv\\lib\\site-packages (from matplotlib->unstructured-inference==0.7.36->unstructured[all-docs]) (0.12.1)\n",
      "Requirement already satisfied: fonttools>=4.22.0 in .\\venv\\lib\\site-packages (from matplotlib->unstructured-inference==0.7.36->unstructured[all-docs]) (4.53.1)\n",
      "Requirement already satisfied: kiwisolver>=1.3.1 in .\\venv\\lib\\site-packages (from matplotlib->unstructured-inference==0.7.36->unstructured[all-docs]) (1.4.5)\n",
      "Requirement already satisfied: pyparsing>=2.3.1 in .\\venv\\lib\\site-packages (from matplotlib->unstructured-inference==0.7.36->unstructured[all-docs]) (3.1.2)\n",
      "Requirement already satisfied: safetensors in .\\venv\\lib\\site-packages (from timm->unstructured-inference==0.7.36->unstructured[all-docs]) (0.4.3)\n",
      "Requirement already satisfied: filelock in .\\venv\\lib\\site-packages (from torch->unstructured-inference==0.7.36->unstructured[all-docs]) (3.15.4)\n",
      "Requirement already satisfied: jinja2 in .\\venv\\lib\\site-packages (from torch->unstructured-inference==0.7.36->unstructured[all-docs]) (3.1.4)\n",
      "Requirement already satisfied: fsspec in .\\venv\\lib\\site-packages (from torch->unstructured-inference==0.7.36->unstructured[all-docs]) (2024.6.1)\n",
      "Requirement already satisfied: mkl<=2021.4.0,>=2021.1.1 in .\\venv\\lib\\site-packages (from torch->unstructured-inference==0.7.36->unstructured[all-docs]) (2021.4.0)\n",
      "Requirement already satisfied: tokenizers<0.20,>=0.19 in .\\venv\\lib\\site-packages (from transformers>=4.25.1->unstructured-inference==0.7.36->unstructured[all-docs]) (0.19.1)\n",
      "Requirement already satisfied: scipy in .\\venv\\lib\\site-packages (from layoutparser->unstructured-inference==0.7.36->unstructured[all-docs]) (1.14.0)\n",
      "Requirement already satisfied: iopath in .\\venv\\lib\\site-packages (from layoutparser->unstructured-inference==0.7.36->unstructured[all-docs]) (0.1.10)\n",
      "Requirement already satisfied: pdfplumber in .\\venv\\lib\\site-packages (from layoutparser->unstructured-inference==0.7.36->unstructured[all-docs]) (0.11.2)\n",
      "Requirement already satisfied: pycparser in .\\venv\\lib\\site-packages (from cffi>=1.12->cryptography>=36.0.0->pdfminer.six->unstructured[all-docs]) (2.22)\n",
      "Requirement already satisfied: intel-openmp==2021.* in .\\venv\\lib\\site-packages (from mkl<=2021.4.0,>=2021.1.1->torch->unstructured-inference==0.7.36->unstructured[all-docs]) (2021.4.0)\n",
      "Requirement already satisfied: tbb==2021.* in .\\venv\\lib\\site-packages (from mkl<=2021.4.0,>=2021.1.1->torch->unstructured-inference==0.7.36->unstructured[all-docs]) (2021.13.0)\n",
      "Requirement already satisfied: pyasn1<0.7.0,>=0.4.6 in .\\venv\\lib\\site-packages (from pyasn1-modules>=0.2.1->google-auth!=2.24.0,!=2.25.0,<3.0.0dev,>=2.14.1->google-cloud-vision->unstructured[all-docs]) (0.6.0)\n",
      "Requirement already satisfied: humanfriendly>=9.1 in .\\venv\\lib\\site-packages (from coloredlogs->onnxruntime>=1.17.0->unstructured-inference==0.7.36->unstructured[all-docs]) (10.0)\n",
      "Requirement already satisfied: portalocker in .\\venv\\lib\\site-packages (from iopath->layoutparser->unstructured-inference==0.7.36->unstructured[all-docs]) (2.10.0)\n",
      "Requirement already satisfied: MarkupSafe>=2.0 in .\\venv\\lib\\site-packages (from jinja2->torch->unstructured-inference==0.7.36->unstructured[all-docs]) (2.1.5)\n",
      "Requirement already satisfied: pypdfium2>=4.18.0 in .\\venv\\lib\\site-packages (from pdfplumber->layoutparser->unstructured-inference==0.7.36->unstructured[all-docs]) (4.30.0)\n",
      "Requirement already satisfied: mpmath<1.4.0,>=1.1.0 in .\\venv\\lib\\site-packages (from sympy->onnxruntime>=1.17.0->unstructured-inference==0.7.36->unstructured[all-docs]) (1.3.0)\n",
      "Requirement already satisfied: pyreadline3 in .\\venv\\lib\\site-packages (from humanfriendly>=9.1->coloredlogs->onnxruntime>=1.17.0->unstructured-inference==0.7.36->unstructured[all-docs]) (3.4.1)\n",
      "Requirement already satisfied: pywin32>=226 in .\\venv\\lib\\site-packages (from portalocker->iopath->layoutparser->unstructured-inference==0.7.36->unstructured[all-docs]) (306)\n",
      "Note: you may need to restart the kernel to use updated packages.\n"
     ]
    },
    {
     "name": "stderr",
     "output_type": "stream",
     "text": [
      "\n",
      "[notice] A new release of pip is available: 24.0 -> 24.1.2\n",
      "[notice] To update, run: c:\\programs\\tasks\\image chatbot (task2)\\venv\\Scripts\\python.exe -m pip install --upgrade pip\n"
     ]
    },
    {
     "name": "stdout",
     "output_type": "stream",
     "text": [
      "Collecting langchain_community\n",
      "  Using cached langchain_community-0.2.6-py3-none-any.whl.metadata (2.5 kB)\n",
      "Requirement already satisfied: PyYAML>=5.3 in .\\venv\\lib\\site-packages (from langchain_community) (6.0.1)\n",
      "Requirement already satisfied: SQLAlchemy<3,>=1.4 in .\\venv\\lib\\site-packages (from langchain_community) (2.0.31)\n",
      "Requirement already satisfied: aiohttp<4.0.0,>=3.8.3 in .\\venv\\lib\\site-packages (from langchain_community) (3.9.5)\n",
      "Requirement already satisfied: dataclasses-json<0.7,>=0.5.7 in .\\venv\\lib\\site-packages (from langchain_community) (0.6.7)\n",
      "Requirement already satisfied: langchain<0.3.0,>=0.2.6 in .\\venv\\lib\\site-packages (from langchain_community) (0.2.6)\n",
      "Requirement already satisfied: langchain-core<0.3.0,>=0.2.10 in .\\venv\\lib\\site-packages (from langchain_community) (0.2.11)\n",
      "Requirement already satisfied: langsmith<0.2.0,>=0.1.0 in .\\venv\\lib\\site-packages (from langchain_community) (0.1.84)\n",
      "Requirement already satisfied: numpy<2.0.0,>=1.26.0 in .\\venv\\lib\\site-packages (from langchain_community) (1.26.4)\n",
      "Requirement already satisfied: requests<3,>=2 in .\\venv\\lib\\site-packages (from langchain_community) (2.32.3)\n",
      "Requirement already satisfied: tenacity!=8.4.0,<9.0.0,>=8.1.0 in .\\venv\\lib\\site-packages (from langchain_community) (8.5.0)\n",
      "Requirement already satisfied: aiosignal>=1.1.2 in .\\venv\\lib\\site-packages (from aiohttp<4.0.0,>=3.8.3->langchain_community) (1.3.1)\n",
      "Requirement already satisfied: attrs>=17.3.0 in .\\venv\\lib\\site-packages (from aiohttp<4.0.0,>=3.8.3->langchain_community) (23.2.0)\n",
      "Requirement already satisfied: frozenlist>=1.1.1 in .\\venv\\lib\\site-packages (from aiohttp<4.0.0,>=3.8.3->langchain_community) (1.4.1)\n",
      "Requirement already satisfied: multidict<7.0,>=4.5 in .\\venv\\lib\\site-packages (from aiohttp<4.0.0,>=3.8.3->langchain_community) (6.0.5)\n",
      "Requirement already satisfied: yarl<2.0,>=1.0 in .\\venv\\lib\\site-packages (from aiohttp<4.0.0,>=3.8.3->langchain_community) (1.9.4)\n",
      "Requirement already satisfied: marshmallow<4.0.0,>=3.18.0 in .\\venv\\lib\\site-packages (from dataclasses-json<0.7,>=0.5.7->langchain_community) (3.21.3)\n",
      "Requirement already satisfied: typing-inspect<1,>=0.4.0 in .\\venv\\lib\\site-packages (from dataclasses-json<0.7,>=0.5.7->langchain_community) (0.9.0)\n",
      "Requirement already satisfied: langchain-text-splitters<0.3.0,>=0.2.0 in .\\venv\\lib\\site-packages (from langchain<0.3.0,>=0.2.6->langchain_community) (0.2.2)\n",
      "Requirement already satisfied: pydantic<3,>=1 in .\\venv\\lib\\site-packages (from langchain<0.3.0,>=0.2.6->langchain_community) (2.8.2)\n",
      "Requirement already satisfied: jsonpatch<2.0,>=1.33 in .\\venv\\lib\\site-packages (from langchain-core<0.3.0,>=0.2.10->langchain_community) (1.33)\n",
      "Requirement already satisfied: packaging<25,>=23.2 in .\\venv\\lib\\site-packages (from langchain-core<0.3.0,>=0.2.10->langchain_community) (24.1)\n",
      "Requirement already satisfied: orjson<4.0.0,>=3.9.14 in .\\venv\\lib\\site-packages (from langsmith<0.2.0,>=0.1.0->langchain_community) (3.10.6)\n",
      "Requirement already satisfied: charset-normalizer<4,>=2 in .\\venv\\lib\\site-packages (from requests<3,>=2->langchain_community) (3.3.2)\n",
      "Requirement already satisfied: idna<4,>=2.5 in .\\venv\\lib\\site-packages (from requests<3,>=2->langchain_community) (3.7)\n",
      "Requirement already satisfied: urllib3<3,>=1.21.1 in .\\venv\\lib\\site-packages (from requests<3,>=2->langchain_community) (2.2.2)\n",
      "Requirement already satisfied: certifi>=2017.4.17 in .\\venv\\lib\\site-packages (from requests<3,>=2->langchain_community) (2024.7.4)\n",
      "Requirement already satisfied: typing-extensions>=4.6.0 in .\\venv\\lib\\site-packages (from SQLAlchemy<3,>=1.4->langchain_community) (4.12.2)\n",
      "Requirement already satisfied: greenlet!=0.4.17 in .\\venv\\lib\\site-packages (from SQLAlchemy<3,>=1.4->langchain_community) (3.0.3)\n",
      "Requirement already satisfied: jsonpointer>=1.9 in .\\venv\\lib\\site-packages (from jsonpatch<2.0,>=1.33->langchain-core<0.3.0,>=0.2.10->langchain_community) (3.0.0)\n",
      "Requirement already satisfied: annotated-types>=0.4.0 in .\\venv\\lib\\site-packages (from pydantic<3,>=1->langchain<0.3.0,>=0.2.6->langchain_community) (0.7.0)\n",
      "Requirement already satisfied: pydantic-core==2.20.1 in .\\venv\\lib\\site-packages (from pydantic<3,>=1->langchain<0.3.0,>=0.2.6->langchain_community) (2.20.1)\n",
      "Requirement already satisfied: mypy-extensions>=0.3.0 in .\\venv\\lib\\site-packages (from typing-inspect<1,>=0.4.0->dataclasses-json<0.7,>=0.5.7->langchain_community) (1.0.0)\n",
      "Using cached langchain_community-0.2.6-py3-none-any.whl (2.2 MB)\n",
      "Installing collected packages: langchain_community\n",
      "Successfully installed langchain_community-0.2.6\n",
      "Note: you may need to restart the kernel to use updated packages.\n"
     ]
    },
    {
     "name": "stderr",
     "output_type": "stream",
     "text": [
      "\n",
      "[notice] A new release of pip is available: 24.0 -> 24.1.2\n",
      "[notice] To update, run: c:\\programs\\tasks\\image chatbot (task2)\\venv\\Scripts\\python.exe -m pip install --upgrade pip\n"
     ]
    }
   ],
   "source": [
    "%pip install unstructured langchain\n",
    "%pip install \"unstructured[all-docs]\"\n",
    "%pip install langchain_community "
   ]
  },
  {
   "cell_type": "code",
   "execution_count": 6,
   "id": "3c0e2f74-7c4b-4665-8d87-bc00656f31e0",
   "metadata": {},
   "outputs": [],
   "source": [
    "from langchain_community.document_loaders import UnstructuredPDFLoader\n",
    "from langchain_community.document_loaders import OnlinePDFLoader"
   ]
  },
  {
   "cell_type": "code",
   "execution_count": 7,
   "id": "104c0b18-1c06-41a1-a2ca-f9ee23f4f952",
   "metadata": {},
   "outputs": [
    {
     "name": "stderr",
     "output_type": "stream",
     "text": [
      "c:\\programs\\tasks\\image chatbot (task2)\\venv\\Lib\\site-packages\\tqdm\\auto.py:21: TqdmWarning: IProgress not found. Please update jupyter and ipywidgets. See https://ipywidgets.readthedocs.io/en/stable/user_install.html\n",
      "  from .autonotebook import tqdm as notebook_tqdm\n"
     ]
    }
   ],
   "source": [
    "local_path = \"iata 1.pdf\"\n",
    "\n",
    "# Local PDF file uploads\n",
    "if local_path:\n",
    "  loader = UnstructuredPDFLoader(file_path=local_path)\n",
    "  data = loader.load()\n",
    "else:\n",
    "  print(\"Upload a PDF file\")"
   ]
  },
  {
   "cell_type": "code",
   "execution_count": 8,
   "id": "38119195-9c91-4e58-aa46-8a74244032af",
   "metadata": {
    "scrolled": true
   },
   "outputs": [
    {
     "data": {
      "text/plain": [
       "\"Air Passenger Market Analysis December 2022 The year ends on a strong note for the global industry • In 2022, air passenger traffic gained momentum globally and recovered substantially from 41.7% of 2019 revenue\\n\\npassenger-kilometers (RPKs) in 2021 to 68.5% in 2022.\\n\\nDomestic RPKs recovered to 79.6% of pre-pandemic passenger traffic in 2022 and grew 10.9% year-on-year (YoY) from 2021 levels. International RPKs recovered to 62.2% of 2019 traffic and grew 152.7% YoY from 2021 levels. • Industry-wide RPKs increased by 39.7% YoY in December and reached 76.9% of pre-pandemic levels for the same month. Compared to December 2021, domestic passenger traffic grew 2.6% while international traffic grew 80.2%. • Monitored domestic markets continued to show resilience and steady traffic levels. International passenger traffic within and between the Asia Pacific region and the rest of the world also continued to show positive trends.\\n\\nTotal domestic ticket sales have seen an uptick over the month of January 2023. This positive development is mainly attributable to China PR reopening. On the other hand, international ticket sales have caught up to domestic in terms of recovery to 2019 sales volumes. RPK, 2022 % change versusASK, 2022 % change versusPLF20192021201920212022 level%-pt versus 2019%-pt versus 2021TOTAL-31.5%64.4%-28.1%39.8%78.7%-3.9%11.8%Africa-31.3%84.9%-31.8%51.8%72.3%0.5%12.9%Asia Pacific-55.6%34.0%-49.4%16.8%71.8%-10.1%9.2%Europe-22.2%100.2%-18.4%66.8%81.2%-4.0%13.5%Latin America & Caribb.-14.2%62.7%-12.9%54.6%81.3%-1.3%4.0%Middle East-25.9%144.4%-25.2%67.0%75.4%-0.7%23.9%North America-11.3%45.5%-9.9%28.5%83.5%-1.3%9.8%\\n\\nTotal domestic ticket sales have seen an uptick over the month of January 2023. This positive development is mainly attributable to China PR reopening. On the other hand, international ticket sales have caught up to domestic in terms of recovery to 2019 sales volumes. RPK, 2022 % change versusASK, 2022 % change versusPLF20192021201920212022 level%-pt versus 2019%-pt versus 2021TOTAL-31.5%64.4%-28.1%39.8%78.7%-3.9%11.8%Africa-31.3%84.9%-31.8%51.8%72.3%0.5%12.9%Asia Pacific-55.6%34.0%-49.4%16.8%71.8%-10.1%9.2%Europe-22.2%100.2%-18.4%66.8%81.2%-4.0%13.5%Latin America & Caribb.-14.2%62.7%-12.9%54.6%81.3%-1.3%4.0%Middle East-25.9%144.4%-25.2%67.0%75.4%-0.7%23.9%North America-11.3%45.5%-9.9%28.5%83.5%-1.3%9.8%\\n\\nPositive trend remained strong throughout 2022\\n\\nOver the course of 2022, global air passenger traffic gained momentum and recovered substantially as travel restrictions were taken down and passengers expressed a very strong willingness to travel. Passenger traffic recovered from 41.7% of 2019 volumes in 2021 to 68.5% in 2022.\\n\\nAt the industry level, passenger demand was met by offered seat capacity in 2022, as available seat- kilometers (ASKs) recovered to 71.9% of 2019 levels, while maintaining load factors of 78.7%. Passenger load factors for 2022 were only 3.9 percentage points (ppts) below the load factors achieved before the pandemic in 2019. Similar observations can also be made at the regional level.\\n\\nindustry-wide passenger\\n\\nGlobally, domestic operations ramped up quicker than international as domestic travel policies offered more certainty to passengers. Despite the setbacks caused by lingering travel restrictions, international traffic\\n\\ntook off significantly these restrictions were taken down. As a result, international RPKs surged from 26.8% of 2019 levels in 2021 to 62.2% in 2022.\\n\\nin 2022 wherever\\n\\nAirlines faced uneven outcomes in 2022. North American carriers led the industry by achieving close- to pre-pandemic passenger traffic levels with total RPKs 11.3% under 2019 volumes, followed by Latin American and European carriers at 14.2% and 22.2%, respectively, below 2019 levels.\\n\\nOver the past year, re-openings in many economies of the Asia Pacific region allowed for passengers and airlines to return to the skies, greatly accelerating traffic growth in both domestic and international markets. While performed RPKs in 2022 were 54.4% under the levels of 2019 for this region’s airlines, the recent developments related to the reopening of international travel in China PR give a positive outlook for the months to come.\\n\\nAir passenger market overview - December 2022World share1RPKASKPLF (%-pt)2PLF (level)3RPKASKPLF (%-pt)2PLF (level)3TOTAL MARKET100.0%-23.1%-22.1%-1.1%81.1%39.7%23.0%9.7%81.1% International58.0%-24.9%-25.2%0.3%82.0%80.2%47.8%14.7%82.0% Domestic42.0%-20.1%-16.8%-3.3%79.6%2.6%-2.5%3.9%79.6%1% of industry RPKs in 20222Change in load factor vs same month in 20193Load factor levelDecember 2022 (% ch vs the same month in 2019)December 2022 (% year-on-year)\\n\\nAir Passenger Monthly Analysis – December 2022\\n\\nThe year ends on a strong note for the global industry\\n\\nIn December, industry-wide RPKs grew by 39.7% YoY and stood at 76.9% of December 2019 levels (Chart 1), a 2ppts increase from the month prior. Following the seasonal drop in demand of November, the month of December usually presents higher passenger traffic due to the year-end holidays. In seasonally adjusted terms, global RPKs grew by 3.1% from November and 5.0% from October 2022, signaling sustained momentum globally.\\n\\nChart 1: Global air passengers, RPK billion\\n\\nSources: IATA Economics, IATA Monthly Statistics\\n\\n0501001502002503003504004505005506006507007508008502017201820192020202120222023Industry RPKs (billion per month)ActualSeasonally adjusted\\n\\nGlobal passenger load factors (PLF) remained close to pre-pandemic levels this month with only 1.1ppts levels at 81.1%. The down on December 2019 aggregate load factor for domestic and international markets reached 79.6% and 82.0%, respectively.\\n\\nEarly signs of recovery for China’s domestic markets, stable outcomes for other monitored markets\\n\\nChart 2 – Domestic RPK growth (airline region of registration basis), YoY% change versus 2019\\n\\n69.8%-17.5%-3.8%-13.3%-0.5%-10.9%-21.8%-55.5%-24.8%-9.3%-8.7%-8.7%-3.6%-20.1%-100%-80%-60%-40%-20%0%20%40% Nov 2022Domestic revenue passenger-kilometres (% ch vs the same month in 2019)IndustryDomestic IndiaDomestic USADomestic JapanDomestic BrazilDom. AustraliaDomestic ChinaSources: IATA Economics, IATA Monthly Statistics\\n\\nindustry-wide domestic markets In December, steadied. Total domestic RPKs grew 2.6% while ASKs contracted by 2.5% YoY. In China PR, domestic traffic has shown signs of recovery once again, now sitting 55.5% under December 2019 levels, a substantial uptick from the previous month (Chart 2).\\n\\nAir Passenger Monthly Analysis – December 2022\\n\\nThe US domestic market demand remained strong in December and throughout the year. RPKs reached 94.1% of 2019 traffic in 2022 and the month of December fell 8.7% short of December 2019 traffic levels.\\n\\nIn Brazil, domestic traffic was close to pre-pandemic levels in 2022 with RPKs totaling 94.6% of 2019 levels. December 2022 RPKs were 9.3% than December 2019 RPKs.\\n\\nlower\\n\\nIndia saw domestic RPKs increase substantially in 2022 with concerns of new Covid-19 outbreaks fading away. Domestic RPKs for 2022 accounted for 85.7% of 2019 levels while December 2022 stood 3.6% below traffic for the same month in 2019.\\n\\nIn Japan, domestic traffic quickly rebounded in 2022 and achieved 74.1% of the recovery to 2019 levels. December RPKs for the domestic market were 8.7% under those of December 2019. Australia experienced a similar rebound, with RPKs recovering to 81.2% of 2019 levels, a substantial 42.8 ppts increase from 2021.\\n\\nInsufficient data prevent us from reporting on developments in Russia’s domestic market.\\n\\nInternational passenger traffic recovered substantially in 2022\\n\\nIn 2022, international passenger traffic more than doubled with 152.7% YoY growth. All regions experienced strong growth propelled by pent-up demand for air travel and easing restrictions globally. In December 2022, international RPKs tracked 24.9% under the same month in 2019 and conserved momentum with steady performance from all regions (Chart 3).\\n\\nChart 3: International RPK growth (airline region of registration basis), YoY% change versus 2019\\n\\n50.4%-15.9%-14.8%-16.9%-20.0%-5.8%-26.1%-48.1%-18.4%-16.3%-14.5%-14.2%-6.9%-24.9%-75%-65%-55%-45%-35%-25%-15%-5%5% Nov 2022International revenue passenger-kilometres (% ch vs the same month in 2019)IndustryN. AmericaAfricaEuropeMiddle EastL. AmericaAsia PacificSources: IATA Economics, IATA Monthly Statistics\\n\\nAirlines of the Asia Pacific region continue to display In December, the highest YoY growth YoY. 302.7% international\\n\\nrates.\\n\\nRPKs\\n\\nincreased\\n\\n2\\n\\nInternational traffic within Asia maintained its growth momentum this month and increased to 44.1% of December 2019 levels. Although, different route areas between this region and the rest of the world present uneven levels of recovery, a strong positive trend persisted until the end of 2022 (Chart 4).\\n\\nChart 4: International RPKs, YoY% change versus 2019 – Top 10 route areas in 2019, ranked by performed traffic volume 1\\n\\n100%-80%-60%-40%-20%0%Jan-20Jun-20Nov-20Apr-21Sep-21Feb-22Jul-22Dec-22 Within AsiaSource:IATA Economics, IATA Monthly Statistics\\n\\nIn Europe, international RPKs performed well and grew by 46.5% YoY and are now 14.5% under December 2019 RPKs.\\n\\nLatin America has seen 37.0% YoY growth in international RPKs while North America posted 61.3% YoY growth. December 2022 RPKs were 18.4% and 6.9% below December 2019 levels for Latin American and North America, respectively.\\n\\nMiddle Eastern carriers recorded 69.8% YoY growth this month and international RPKs are now 16.3% under pre-pandemic levels. For African carriers, international RPKs grew by 118.8% YoY, positioning the latest results 14.2% under December 2019 levels.\\n\\nAligned recovery for Premium and Economy\\n\\nRecovery trends for traffic in the Premium and Economy cabin classes remain broadly aligned. Economy class RPKs – which include premium economy (and accounts for 92% of total RPKs) – in reached 73.6% of their November 2019 November 2022. Premium RPKs – which capture travel in first and business class cabins – fared nearly as well at 77.3% of November 2019 level (Chart 5).\\n\\nlevel\\n\\nChart 5: International RPKs by cabin class\\n\\nShareof int'l RPKs by class(identical in 2019 and 2021)Economy: 92%Premium: 8%EconomyPremium\\n\\n0%20%40%60%80%100%Jan-20Mar-20May-20Jul-20Sep-20Nov-20Jan-21Mar-21May-21Jul-21Sep-21Nov-21Jan-22Mar-22May-22Jul-22Sep-22Nov-22International RPKs, % of the same month in 2019Source: IATA MonthlyStatistics\\n\\nInternational and domestic ticket sales align\\n\\nDomestic ticket sales in 2022 have roughly followed a sideways trend while international ticket sales began to rise over that year (Chart 6). The most recent data show an uptick in domestic ticket sales in January 2023, mainly attributable to the domestic China PR market reopening. Meanwhile international ticket sales have caught up to, and maintained their recovery with, domestic ticket sales.\\n\\nChart 6: Passenger ticket sales, Domestic and International, YoY% versus 2019\\n\\n30%40%50%60%70%80%90%100%Sep-21Oct-21Nov-21Dec-21Jan-22Feb-22Mar-22Apr-22May-22Jun-22Jul-22Aug-22Sep-22Oct-22Nov-22Dec-22Jan-23\\n\\nDomestic\\n\\nInternationalSource: IATAEconomics, DDS\\n\\nGet the data Access data related to this briefing through IATA’s Monthly Statistics publication: www.iata.org/monthly-traffic-statistics\\n\\nIATA Economics Consulting To find out more about our tailored economics consulting solutions, visit: www.iata.org/consulting\\n\\nTerms and Conditions for the use of this IATA Economics Report and its contents can be found here: www.iata.org/economics-terms By using this IATA Economics Report and its contents in any manner, you agree that the IATA Economics Report Terms and Conditions apply to you and agree to abide by them. If you do not accept these Terms and Conditions, do not use this report.\\n\\n1 Chart 4 has been updated due to a statistical revision\\n\\nAir Passenger Monthly Analysis – December 2022\\n\\n3\\n\\nAir passenger market in detail - December 2022World share1RPKASKPLF (%-pt)2PLF (level)3TOTAL MARKET100.0%39.7%23.0%9.7%81.1% Africa2.1%108.0%72.5%13.1%76.9% Asia Pacific22.4%63.3%31.9%14.8%77.2% Europe30.4%38.8%18.9%11.9%83.6% Latin America6.4%16.2%20.0%-2.6%78.5% Middle East9.8%65.1%35.9%14.1%80.0% North America28.8%18.4%11.8%4.7%84.2% International58.0%80.2%47.8%14.7%82.0% Africa1.8%118.8%77.5%14.5%76.8% Asia Pacific8.9%302.7%153.5%30.2%81.5% Europe26.4%46.5%23.1%13.3%83.4% Latin America2.8%37.0%39.9%-1.7%79.0% Middle East9.4%69.8%38.8%14.7%80.2% North America8.7%61.3%37.5%12.3%83.6% Domestic42.0%2.6%-2.5%3.9%79.6% Dom. Australia41.0%72.7%19.5%25.1%81.6% Domestic Brazil41.5%-5.7%0.3%-4.9%77.4% Dom. China P.R.46.5%-26.4%-27.4%0.9%64.3% Domestic India42.0%12.9%0.9%9.4%88.9% Domestic Japan41.2%23.9%5.5%10.6%71.5% Domestic US419.2%4.3%2.2%1.7%84.3%1% of industry RPKs in 20222Year-on-year change in load factor3Load factor levelDecember 2022 (% year-on-year)\\n\\nAir passenger market in detail - December 2022World share1RPKASKPLF (%-pt)2PLF (level)3TOTAL MARKET100.0%-23.1%-22.1%-1.1%81.1% Africa2.1%-12.2%-17.4%4.6%76.9% Asia Pacific22.4%-43.5%-40.2%-4.4%77.2% Europe30.4%-13.5%-14.0%0.6%83.6% Latin America6.4%-10.5%-6.2%-3.8%78.5% Middle East9.8%-16.0%-18.9%2.7%80.0% North America28.8%-8.2%-6.9%-1.3%84.2% International58.0%-24.9%-25.2%0.3%82.0% Africa1.8%-14.2%-19.3%4.6%76.8% Asia Pacific8.9%-48.1%-47.9%-0.2%81.5% Europe26.4%-14.5%-14.3%-0.3%83.4% Latin America2.8%-18.4%-15.5%-2.9%79.0% Middle East9.4%-16.3%-19.2%2.9%80.2% North America8.7%-6.9%-5.7%-1.1%83.6% Domestic42.0%-20.1%-16.8%-3.3%79.6% Dom. Australia41.0%-24.8%-23.6%-1.3%81.6% Domestic Brazil41.5%-9.3%-1.5%-6.6%77.4% Dom. China P.R.46.5%-55.5%-43.5%-17.4%64.3% Domestic India42.0%-3.6%-4.5%0.8%88.9% Domestic Japan41.2%-8.7%-10.8%1.6%71.5% Domestic US419.2%-8.7%-7.0%-1.6%84.3%1% of industry RPKs in 20222Change in load factor vs same month in 20193Load factor levelDecember 2022 (% ch vs the same month in 2019)\\n\\nRPK, 2022 % change versusASK, 2022 % change versusPLF20192021201920212022 level%-pt versus 2019%-pt versus 2021TOTAL-31.5%64.4%-28.1%39.8%78.7%-3.9%11.8%Africa-31.3%84.9%-31.8%51.8%72.3%0.5%12.9%Asia Pacific-55.6%34.0%-49.4%16.8%71.8%-10.1%9.2%Europe-22.2%100.2%-18.4%66.8%81.2%-4.0%13.5%Latin America & Caribb.-14.2%62.7%-12.9%54.6%81.3%-1.3%4.0%Middle East-25.9%144.4%-25.2%67.0%75.4%-0.7%23.9%North America-11.3%45.5%-9.9%28.5%83.5%-1.3%9.8%INTERNATIONAL-37.8%152.7%-35.0%85.2%78.5%-3.5%21.0%Africa-34.1%89.2%-34.5%51.0%71.7%0.4%14.5%Asia Pacific-68.2%363.3%-65.2%129.9%74.0%-6.9%37.3%Europe-24.5%132.2%-19.8%84.0%80.6%-5.0%16.7%Latin America & Caribb.-26.9%119.2%-26.3%93.3%82.2%-0.6%9.7%Middle East-26.5%157.4%-26.0%73.8%75.8%-0.5%24.6%North America-20.9%130.2%-17.7%71.3%80.8%-3.2%20.7%DOMESTIC-20.4%10.9%-15.7%4.3%78.9%-4.7%4.7%Africa-13.8%66.7%-14.5%56.2%75.5%0.7%4.8%Asia Pacific-40.3%-8.4%-29.4%-10.6%70.4%-12.7%1.6%Europe-3.1%4.6%-6.7%1.0%85.1%3.2%2.9%Latin America & Caribb.-0.5%35.0%1.6%33.7%80.6%-1.7%0.8%Middle East-10.0%14.0%-4.0%-7.5%68.6%-4.6%13.0%North America-6.3%25.5%-5.8%15.4%84.7%-0.4%6.8%DOMESTIC MARKETSDom. Australia-18.8%111.7%-17.7%63.1%79.7%-1.1%18.3%Dom. Brasil-5.4%29.9%-1.2%31.8%79.2%-3.5%-1.2%Dom. China PR-54.4%-39.8%-40.9%-35.2%65.3%-19.3%-5.0%Dom. India-14.3%48.8%-8.1%30.1%81.4%-5.9%10.2%Dom. Japan-25.9%75.9%-11.5%43.4%61.8%-12.0%11.4%Dom. United States-5.9%23.7%-5.2%14.0%84.7%-0.6%6.7%\\n\\nNote: the total industry and regional growth rates are based on a constant sample of airlines combining reported data and estimates for missing observations. Airline traffic is\\n\\nallocated according to the region in which the carrier is registered; it should not be considered as regional traffic. Historical statistics are subject to revision.\\n\\nIATA Economics economics@iata.org 06 February 2023\\n\\nAir Passenger Monthly Analysis – December 2022\\n\\n4\""
      ]
     },
     "execution_count": 8,
     "metadata": {},
     "output_type": "execute_result"
    }
   ],
   "source": [
    "# Preview first page\n",
    "data[0].page_content"
   ]
  },
  {
   "cell_type": "markdown",
   "id": "c2faacc1-be29-4d52-a46e-94f5b5b8e728",
   "metadata": {},
   "source": [
    "## Vector Embeddings"
   ]
  },
  {
   "cell_type": "code",
   "execution_count": 9,
   "id": "2dcf2cfe-a7aa-4ecf-85e3-f77b9e850514",
   "metadata": {
    "scrolled": true
   },
   "outputs": [
    {
     "name": "stderr",
     "output_type": "stream",
     "text": [
      "\u001b[?25lpulling manifest ⠙ \u001b[?25h\u001b[?25l\u001b[2K\u001b[1Gpulling manifest ⠙ \u001b[?25h\u001b[?25l\u001b[2K\u001b[1Gpulling manifest ⠹ \u001b[?25h\u001b[?25l\u001b[2K\u001b[1Gpulling manifest ⠼ \u001b[?25h\u001b[?25l\u001b[2K\u001b[1Gpulling manifest ⠼ \u001b[?25h\u001b[?25l\u001b[2K\u001b[1Gpulling manifest ⠦ \u001b[?25h\u001b[?25l\u001b[2K\u001b[1Gpulling manifest ⠦ \u001b[?25h\u001b[?25l\u001b[2K\u001b[1Gpulling manifest ⠇ \u001b[?25h\u001b[?25l\u001b[2K\u001b[1Gpulling manifest ⠇ \u001b[?25h\u001b[?25l\u001b[2K\u001b[1Gpulling manifest ⠏ \u001b[?25h\u001b[?25l\u001b[2K\u001b[1Gpulling manifest ⠋ \u001b[?25h\u001b[?25l\u001b[2K\u001b[1Gpulling manifest ⠹ \u001b[?25h\u001b[?25l\u001b[2K\u001b[1Gpulling manifest ⠹ \u001b[?25h\u001b[?25l\u001b[2K\u001b[1Gpulling manifest ⠸ \u001b[?25h\u001b[?25l\u001b[2K\u001b[1Gpulling manifest ⠼ \u001b[?25h\u001b[?25l\u001b[2K\u001b[1Gpulling manifest ⠴ \u001b[?25h\u001b[?25l\u001b[2K\u001b[1Gpulling manifest ⠧ \u001b[?25h\u001b[?25l\u001b[2K\u001b[1Gpulling manifest ⠧ \u001b[?25h\u001b[?25l\u001b[2K\u001b[1Gpulling manifest ⠇ \u001b[?25h\u001b[?25l\u001b[2K\u001b[1Gpulling manifest ⠋ \u001b[?25h\u001b[?25l\u001b[2K\u001b[1Gpulling manifest \n",
      "pulling 970aa74c0a90... 100% ▕████████████████▏ 274 MB                         \n",
      "pulling c71d239df917... 100% ▕████████████████▏  11 KB                         \n",
      "pulling ce4a164fc046... 100% ▕████████████████▏   17 B                         \n",
      "pulling 31df23ea7daa... 100% ▕████████████████▏  420 B                         \n",
      "verifying sha256 digest \n",
      "writing manifest \n",
      "removing any unused layers \n",
      "success \u001b[?25h\n"
     ]
    }
   ],
   "source": [
    "!ollama pull nomic-embed-text"
   ]
  },
  {
   "cell_type": "code",
   "execution_count": 10,
   "id": "39aebbf8-92bf-42e5-951e-40bb458852d5",
   "metadata": {},
   "outputs": [
    {
     "name": "stdout",
     "output_type": "stream",
     "text": [
      "NAME                   \tID          \tSIZE  \tMODIFIED               \n",
      "nomic-embed-text:latest\t0a109f422b47\t274 MB\tLess than a second ago\t\n",
      "llama3:latest          \t365c0bd3c000\t4.7 GB\t2 days ago            \t\n",
      "mistral:latest         \t2ae6f6dd7a3d\t4.1 GB\t2 days ago            \t\n"
     ]
    }
   ],
   "source": [
    "!ollama list"
   ]
  },
  {
   "cell_type": "code",
   "execution_count": 11,
   "id": "5394d61f-906b-4776-b8b5-9f0045c76193",
   "metadata": {},
   "outputs": [
    {
     "name": "stdout",
     "output_type": "stream",
     "text": [
      "Note: you may need to restart the kernel to use updated packages.\n",
      "Note: you may need to restart the kernel to use updated packages.\n"
     ]
    }
   ],
   "source": [
    "%pip install --q chromadb\n",
    "%pip install --q langchain-text-splitters"
   ]
  },
  {
   "cell_type": "code",
   "execution_count": 12,
   "id": "83a39856-0cc0-4ebe-8024-9db32455a545",
   "metadata": {},
   "outputs": [],
   "source": [
    "from langchain_community.embeddings import OllamaEmbeddings\n",
    "from langchain_text_splitters import RecursiveCharacterTextSplitter\n",
    "from langchain_community.vectorstores import Chroma"
   ]
  },
  {
   "cell_type": "code",
   "execution_count": 13,
   "id": "bad040e2-3abe-4e23-abb9-951b223b9262",
   "metadata": {},
   "outputs": [],
   "source": [
    "# Split and chunk \n",
    "text_splitter = RecursiveCharacterTextSplitter(chunk_size=750, chunk_overlap=100)\n",
    "chunks = text_splitter.split_documents(data)"
   ]
  },
  {
   "cell_type": "code",
   "execution_count": 14,
   "id": "efb11c92-e732-4a88-8f57-57a19b38e383",
   "metadata": {},
   "outputs": [
    {
     "name": "stderr",
     "output_type": "stream",
     "text": [
      "OllamaEmbeddings: 100%|██████████| 29/29 [01:49<00:00,  3.77s/it]\n"
     ]
    }
   ],
   "source": [
    "# Add to vector database\n",
    "vector_db = Chroma.from_documents(\n",
    "    documents=chunks, \n",
    "    embedding=OllamaEmbeddings(model=\"nomic-embed-text\",show_progress=True),\n",
    "    collection_name=\"chat-bot\"\n",
    ")"
   ]
  },
  {
   "cell_type": "markdown",
   "id": "39eadf50-2f3d-4420-8858-94e9c1682ffa",
   "metadata": {},
   "source": [
    "## Retrieval And Question-Answering"
   ]
  },
  {
   "cell_type": "code",
   "execution_count": 15,
   "id": "5ec338c4-f282-462f-b0a0-c1899538eb07",
   "metadata": {},
   "outputs": [],
   "source": [
    "from langchain.prompts import ChatPromptTemplate, PromptTemplate\n",
    "from langchain_core.output_parsers import StrOutputParser\n",
    "from langchain_community.chat_models import ChatOllama\n",
    "from langchain_core.runnables import RunnablePassthrough\n",
    "from langchain.retrievers.multi_query import MultiQueryRetriever"
   ]
  },
  {
   "cell_type": "code",
   "execution_count": 16,
   "id": "d1d6ceeb-6883-4688-b923-e771c2b2cb07",
   "metadata": {},
   "outputs": [],
   "source": [
    "# LLM from Ollama\n",
    "local_model = \"mistral\"\n",
    "llm = ChatOllama(model=local_model)"
   ]
  },
  {
   "cell_type": "code",
   "execution_count": 17,
   "id": "c436d5cd-5dd0-448c-b5c0-6eddab879c2a",
   "metadata": {},
   "outputs": [],
   "source": [
    "#Defining the prompt-template for question-answering\n",
    "QUERY_PROMPT = PromptTemplate(\n",
    "    input_variables=[\"question\"],\n",
    "    template=\"\"\"You are an AI language model assistant. Your task is to generate five\n",
    "    different versions of the given user question to retrieve relevant documents from\n",
    "    a vector database. By generating multiple perspectives on the user question, your\n",
    "    goal is to help the user overcome some of the limitations of the distance-based\n",
    "    similarity search. Provide these alternative questions separated by newlines.\n",
    "    Original question: {question}\"\"\",\n",
    ")"
   ]
  },
  {
   "cell_type": "code",
   "execution_count": 18,
   "id": "71e423dc-f632-46f8-9bec-d74cb268ab74",
   "metadata": {},
   "outputs": [],
   "source": [
    "#Configuring a retriever for Retrieval-Augmented Generation (RAG).\n",
    "retriever = MultiQueryRetriever.from_llm(\n",
    "    vector_db.as_retriever(), \n",
    "    llm,\n",
    "    prompt=QUERY_PROMPT\n",
    ")\n",
    "\n",
    "# RAG prompt\n",
    "template = \"\"\"Answer the question based ONLY on the following context:\n",
    "{context}\n",
    "Question: {question}\n",
    "\"\"\"\n",
    "\n",
    "prompt = ChatPromptTemplate.from_template(template)"
   ]
  },
  {
   "cell_type": "code",
   "execution_count": 19,
   "id": "cb1f308f-8472-4506-9517-d79b61d408f2",
   "metadata": {},
   "outputs": [],
   "source": [
    "# Defining a processing chain for question answering\n",
    "chain = (\n",
    "    {\"context\": retriever, \"question\": RunnablePassthrough()}\n",
    "    | prompt\n",
    "    | llm\n",
    "    | StrOutputParser()\n",
    ")"
   ]
  },
  {
   "cell_type": "code",
   "execution_count": 20,
   "id": "915fb18b-cb57-42cf-a9b3-c6f95d3c4e32",
   "metadata": {
    "scrolled": true
   },
   "outputs": [
    {
     "name": "stderr",
     "output_type": "stream",
     "text": [
      "OllamaEmbeddings: 100%|██████████| 1/1 [00:03<00:00,  3.53s/it]\n",
      "OllamaEmbeddings: 100%|██████████| 1/1 [00:02<00:00,  2.20s/it]\n",
      "OllamaEmbeddings: 100%|██████████| 1/1 [00:02<00:00,  2.24s/it]\n",
      "OllamaEmbeddings: 100%|██████████| 1/1 [00:02<00:00,  2.32s/it]\n",
      "OllamaEmbeddings: 100%|██████████| 1/1 [00:02<00:00,  2.23s/it]\n"
     ]
    },
    {
     "data": {
      "text/plain": [
       "' The context provided is about the Air Passenger Monthly Analysis for December 2022, specifically focusing on the global air passenger market. It discusses changes in load factors, RPKs (Revenue Passenger Kilometers), and ticket sales for both international and domestic markets. It also mentions that the global air passenger traffic recovered substantially throughout 2022 compared to 2019 levels, and that the recovery trends for traffic in the Premium and Economy cabin classes remain broadly aligned. The document is based on data from IATA (International Air Transport Association).'"
      ]
     },
     "execution_count": 20,
     "metadata": {},
     "output_type": "execute_result"
    }
   ],
   "source": [
    "#Ask questions about the pdf to the model\n",
    "chain.invoke(input(\"\"))"
   ]
  },
  {
   "cell_type": "code",
   "execution_count": 23,
   "id": "06c25c1d-d205-409e-90a2-179d0bd7c41a",
   "metadata": {},
   "outputs": [
    {
     "name": "stderr",
     "output_type": "stream",
     "text": [
      "OllamaEmbeddings: 100%|██████████| 1/1 [00:02<00:00,  2.85s/it]\n",
      "OllamaEmbeddings: 100%|██████████| 1/1 [00:02<00:00,  2.15s/it]\n",
      "OllamaEmbeddings: 100%|██████████| 1/1 [00:02<00:00,  2.21s/it]\n",
      "OllamaEmbeddings: 100%|██████████| 1/1 [00:02<00:00,  2.17s/it]\n",
      "OllamaEmbeddings: 100%|██████████| 1/1 [00:02<00:00,  2.18s/it]\n"
     ]
    },
    {
     "data": {
      "text/plain": [
       "' The provided context does not explicitly state that there is a specific year and month when international ticket sales exceed domestic sales. However, it does mention that international ticket sales have \"caught up to\" and maintained their recovery with domestic ticket sales as of the most recent data (January 2023). This suggests that at the very least, in January 2023, international ticket sales are equal to or higher than domestic sales. For specific instances where international ticket sales surpassed domestic sales, additional context or a more detailed comparison would be required.'"
      ]
     },
     "execution_count": 23,
     "metadata": {},
     "output_type": "execute_result"
    }
   ],
   "source": [
    "#ask questions about the pdf to the model\n",
    "chain.invoke(\"Which year and month, international ticket sell in higher than domestic sales?\")"
   ]
  },
  {
   "cell_type": "code",
   "execution_count": 24,
   "id": "ac1223d3",
   "metadata": {},
   "outputs": [
    {
     "name": "stderr",
     "output_type": "stream",
     "text": [
      "OllamaEmbeddings: 100%|██████████| 1/1 [00:02<00:00,  2.82s/it]\n",
      "OllamaEmbeddings: 100%|██████████| 1/1 [00:02<00:00,  2.15s/it]\n",
      "OllamaEmbeddings: 100%|██████████| 1/1 [00:02<00:00,  2.14s/it]\n",
      "OllamaEmbeddings: 100%|██████████| 1/1 [00:02<00:00,  2.15s/it]\n",
      "OllamaEmbeddings: 100%|██████████| 1/1 [00:02<00:00,  2.15s/it]\n"
     ]
    },
    {
     "data": {
      "text/plain": [
       "' The region with the maximum deviation (furthest from pre-pandemic levels) in international RPKs, according to the provided context, is Africa. In December 2019, international RPKs for Africa were at 89.2%, while in December 2022 they were 71.7%. This represents a 14.2% deviation from pre-pandemic levels.'"
      ]
     },
     "execution_count": 24,
     "metadata": {},
     "output_type": "execute_result"
    }
   ],
   "source": [
    "chain.invoke(\"In international RPK's which region has maximum deviation in 2019?\")"
   ]
  },
  {
   "cell_type": "code",
   "execution_count": 25,
   "id": "54a19072",
   "metadata": {},
   "outputs": [
    {
     "name": "stderr",
     "output_type": "stream",
     "text": [
      "OllamaEmbeddings: 100%|██████████| 1/1 [00:02<00:00,  2.93s/it]\n",
      "OllamaEmbeddings: 100%|██████████| 1/1 [00:02<00:00,  2.13s/it]\n",
      "OllamaEmbeddings: 100%|██████████| 1/1 [00:02<00:00,  2.21s/it]\n",
      "OllamaEmbeddings: 100%|██████████| 1/1 [00:02<00:00,  2.23s/it]\n",
      "OllamaEmbeddings: 100%|██████████| 1/1 [00:02<00:00,  2.26s/it]\n"
     ]
    },
    {
     "data": {
      "text/plain": [
       "' Based on the provided context, it is not explicitly stated which region had the minimum deviation in 2019 for international RPKs. However, it can be inferred that the regions closest to their 2019 levels are Asia (44.1%) and Europe (14.5%). To definitively answer this question, we would need more specific data comparing the deviation percentages among all regions.'"
      ]
     },
     "execution_count": 25,
     "metadata": {},
     "output_type": "execute_result"
    }
   ],
   "source": [
    "chain.invoke(\"In international RPK's which region has minimum deviation in 2019?\")"
   ]
  },
  {
   "cell_type": "code",
   "execution_count": 26,
   "id": "dfe79f21-48aa-4820-aa9f-79f3d1a0a519",
   "metadata": {},
   "outputs": [],
   "source": [
    "#  if you want to chat with new pdfs, delete the old vertor_db collections\n",
    "vector_db.delete_collection()"
   ]
  }
 ],
 "metadata": {
  "kernelspec": {
   "display_name": "Python 3 (ipykernel)",
   "language": "python",
   "name": "python3"
  },
  "language_info": {
   "codemirror_mode": {
    "name": "ipython",
    "version": 3
   },
   "file_extension": ".py",
   "mimetype": "text/x-python",
   "name": "python",
   "nbconvert_exporter": "python",
   "pygments_lexer": "ipython3",
   "version": "3.12.3"
  }
 },
 "nbformat": 4,
 "nbformat_minor": 5
}
